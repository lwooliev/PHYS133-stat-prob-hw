{
 "cells": [
  {
   "cell_type": "code",
   "execution_count": 1,
   "metadata": {},
   "outputs": [],
   "source": [
    "import numpy as np\n",
    "import matplotlib.pyplot as plt\n",
    "%matplotlib inline"
   ]
  },
  {
   "cell_type": "code",
   "execution_count": 2,
   "metadata": {},
   "outputs": [],
   "source": [
    "def linfit(xdata, ydata, yerr):\n",
    "    def U(n):\n",
    "        return(np.sum(xdata**n/yerr**2))\n",
    "    def W(n):\n",
    "        return(np.sum((ydata*xdata**n)/yerr**2))\n",
    "    \n",
    "    D = U(0)*U(2)-U(1)**2\n",
    "    slope = (U(0)*W(1)-U(1)*W(0))/D\n",
    "    intercept = (U(2)*W(0)-U(1)*W(1))/D\n",
    "    sigma_slope = (U(0)/D)**(1/2)\n",
    "    sigma_intercept = (U(2)/D)**(1/2)    \n",
    "    \n",
    "    print(\"results\")\n",
    "    print(\"slope = %.3f +/- %.3f\"%(slope, sigma_slope))\n",
    "    print(\"intecept = %.3f +/- %.3f\"%(intercept, sigma_intercept))\n",
    "    \n",
    "    return(np.array([slope, intercept, sigma_slope, sigma_intercept]))"
   ]
  },
  {
   "cell_type": "code",
   "execution_count": 3,
   "metadata": {},
   "outputs": [
    {
     "name": "stdout",
     "output_type": "stream",
     "text": [
      "results\n",
      "slope = 275.866 +/- 3.022\n",
      "intecept = 15.863 +/- 0.632\n"
     ]
    },
    {
     "data": {
      "text/plain": [
       "array([275.86590003,  15.86256748,   3.02238429,   0.63194398])"
      ]
     },
     "execution_count": 3,
     "metadata": {},
     "output_type": "execute_result"
    }
   ],
   "source": [
    "xdata = np.linspace(0, 1, 20)\n",
    "ydata = np.array([15.1, 30.7, 44.3, 58, 76.1, 86, 108.5, 120, 132.5, 152, 170, 174, 194, 215, 227, 231, 240, 245, 252, 255])\n",
    "yerr = np.array([1, 1, 1, 2.5, 2.5, 2.5, 2.5, 2.5, 5, 5, 5, 7.5, 7.5, 7.5, 7.5, 7.5, 10, 10, 10, 10])\n",
    "\n",
    "linfit(xdata, ydata, yerr)"
   ]
  },
  {
   "cell_type": "code",
   "execution_count": 5,
   "metadata": {},
   "outputs": [
    {
     "data": {
      "text/plain": [
       "Text(0,0.5,'Voltage')"
      ]
     },
     "execution_count": 5,
     "metadata": {},
     "output_type": "execute_result"
    },
    {
     "data": {
      "image/png": "[encoded data removed]",
      "text/plain": [
       "<Figure size 432x288 with 1 Axes>"
      ]
     },
     "metadata": {},
     "output_type": "display_data"
    }
   ],
   "source": [
    "plt.xlim(-0.05, 1.05)\n",
    "plt.ylim(0, 500)\n",
    "x = xdata\n",
    "fitlin = 275.86*x  + 15.86\n",
    "plt.plot(x, fitlin, color = 'purple', label='fitline')\n",
    "\n",
    "plt.plot(xdata, ydata, '.')\n",
    "plt.errorbar(xdata, ydata, yerr, 0, '.', color='black', label='data')\n",
    "\n",
    "plt.legend(loc=0)\n",
    "plt.title('Current v Voltage')\n",
    "plt.xlabel('Current')\n",
    "plt.ylabel('Voltage')"
   ]
  },
  {
   "cell_type": "code",
   "execution_count": 6,
   "metadata": {},
   "outputs": [
    {
     "name": "stdout",
     "output_type": "stream",
     "text": [
      "13.483584000000018\n"
     ]
    }
   ],
   "source": [
    "def chisq(xdata, ydata, yerr):\n",
    "    for i in range(0, len(xdata)):\n",
    "        chi = 0\n",
    "        chi += ((ydata[i] - (275.86*xdata[i] + 15.86))**2)/yerr[i]**2\n",
    "    return(chi)\n",
    "print(chisq(xdata, ydata, yerr))\n",
    "\n",
    "dof = 18\n",
    "def chisqfit(chisq, dof):\n",
    "    return (chisq/dof)\n",
    "    print(chisqfit(chisq, dof))"
   ]
  },
  {
   "cell_type": "code",
   "execution_count": 12,
   "metadata": {},
   "outputs": [
    {
     "name": "stdout",
     "output_type": "stream",
     "text": [
      "results\n",
      "slope = 263.307 +/- 3.340\n",
      "intecept = 14.910 +/- 0.659\n",
      "1.6206987377777784\n"
     ]
    },
    {
     "data": {
      "image/png": "[encoded data removed]",
      "text/plain": [
       "<Figure size 432x288 with 1 Axes>"
      ]
     },
     "metadata": {},
     "output_type": "display_data"
    }
   ],
   "source": [
    "xdata = np.linspace(0, 0.8, 15)\n",
    "ydata = np.array([15.1, 30.7, 44.3, 58, 76.1, 86, 108.5, 120, 132.5, 152, 170, 174, 194, 215, 227])\n",
    "yerr = np.array([1, 1, 1, 2.5, 2.5, 2.5, 2.5, 2.5, 5, 5, 5, 7.5, 7.5, 7.5, 7.5])\n",
    "\n",
    "linfit(xdata, ydata, yerr)\n",
    "\n",
    "plt.xlim(-0.05, 0.9)\n",
    "plt.ylim(0, 500)\n",
    "x = xdata\n",
    "fitlin = 263.306*x  + 14.9\n",
    "plt.plot(x, fitlin, color = 'purple', label='fitline')\n",
    "\n",
    "plt.plot(xdata, ydata, '.')\n",
    "plt.errorbar(xdata, ydata, yerr, 0, '.', color='black', label='data')\n",
    "\n",
    "plt.legend(loc=0)\n",
    "plt.title('Current v Voltage')\n",
    "plt.xlabel('Current')\n",
    "plt.ylabel('Voltage')\n",
    "\n",
    "print(chisq(xdata, ydata, yerr))"
   ]
  },
  {
   "cell_type": "code",
   "execution_count": null,
   "metadata": {},
   "outputs": [],
   "source": []
  }
 ],
 "metadata": {
  "kernelspec": {
   "display_name": "Python 3",
   "language": "python",
   "name": "python3"
  },
  "language_info": {
   "codemirror_mode": {
    "name": "ipython",
    "version": 3
   },
   "file_extension": ".py",
   "mimetype": "text/x-python",
   "name": "python",
   "nbconvert_exporter": "python",
   "pygments_lexer": "ipython3",
   "version": "3.6.5"
  }
 },
 "nbformat": 4,
 "nbformat_minor": 2
}
